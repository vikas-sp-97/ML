{
 "cells": [
  {
   "cell_type": "markdown",
   "metadata": {},
   "source": [
    "# Assignment 3\n"
   ]
  },
  {
   "cell_type": "markdown",
   "metadata": {},
   "source": [
    "1.1 Write a Python Program to implement your own myreduce() function which works exactly like Python's built-in function reduce()"
   ]
  },
  {
   "cell_type": "markdown",
   "metadata": {},
   "source": [
    "Solution: since for reduce the function might have addition and multiplication, common result value can not be set to 0(because addition of 0 would work fine by multiplication would result in total as 0)\n",
    "So i have used as additional param as 'is_addition_or_sub' which is True for Addition and substraction and False for multiplication and dividion.\n",
    "\n",
    "About the function: Written using the concept of recurssion, passing list with elements reduced after each iteration."
   ]
  },
  {
   "cell_type": "code",
   "execution_count": 44,
   "metadata": {},
   "outputs": [
    {
     "name": "stdout",
     "output_type": "stream",
     "text": [
      "180\n"
     ]
    }
   ],
   "source": [
    "def my_reduce(f,l, is_addition_or_sub = True):\n",
    "    if is_addition_or_sub:\n",
    "        res = 0\n",
    "        if type(l) == list:\n",
    "            for i in l:\n",
    "                l.remove(i)\n",
    "                try:\n",
    "                    res = f(i, my_reduce(f, l))\n",
    "                    break\n",
    "                except:\n",
    "                    print(\"something is wrong in the function!\")\n",
    "            return res\n",
    "        else:\n",
    "            print(\"iterator type is not list!\")\n",
    "    else:\n",
    "        res = 1\n",
    "        if type(l) == list:\n",
    "            for i in l:\n",
    "                try:\n",
    "                    if len(l) == 1:\n",
    "                        res = l[0]\n",
    "                        break\n",
    "                    else:\n",
    "                        l.remove(i)\n",
    "                        res = f(i, my_reduce(f, l, is_addition_or_sub=False))\n",
    "                        break\n",
    "                except:\n",
    "                    print(\"something is wrong in the function!\")\n",
    "            return res\n",
    "        else:\n",
    "            print(\"iterator type is not list!\")\n",
    "\n",
    "def f(a,b):\n",
    "    return a*b\n",
    "\n",
    "\n",
    "print(my_reduce(f, [1, 3, 5, 6, 2], is_addition_or_sub=False))"
   ]
  },
  {
   "cell_type": "markdown",
   "metadata": {},
   "source": [
    "===================="
   ]
  },
  {
   "cell_type": "markdown",
   "metadata": {},
   "source": [
    "1.2 Write a Python program to implement your own myfilter() function which works exactly like Python's built-in function filter()"
   ]
  },
  {
   "cell_type": "code",
   "execution_count": 54,
   "metadata": {},
   "outputs": [
    {
     "name": "stdout",
     "output_type": "stream",
     "text": [
      "11\n"
     ]
    }
   ],
   "source": [
    "def my_filter(f,l):\n",
    "    if type(l) == list:\n",
    "        for i in l:\n",
    "            try:\n",
    "                if f(i):\n",
    "                    return i\n",
    "            except:\n",
    "                print(\"somethings wrong with function!\")\n",
    "    else:\n",
    "        print(\"iterator id not a list!!\")\n",
    "\n",
    "\n",
    "def f(a):\n",
    "    if a > 10:\n",
    "        return True\n",
    "    else:\n",
    "        return False\n",
    "\n",
    "print(my_filter(f, [1, 3, 5, 11, 6, 2]))"
   ]
  },
  {
   "cell_type": "markdown",
   "metadata": {},
   "source": [
    "====================="
   ]
  },
  {
   "cell_type": "markdown",
   "metadata": {},
   "source": [
    "2. Implement List comprehensions to produce the following lists. Write List comprehensions to produce the following Lists"
   ]
  },
  {
   "cell_type": "markdown",
   "metadata": {},
   "source": [
    "a. ['x', 'xx', 'xxx', 'xxxx', 'y', 'yy', 'yyy', 'yyyy', 'z', 'zz', 'zzz', 'zzzz']"
   ]
  },
  {
   "cell_type": "code",
   "execution_count": 46,
   "metadata": {},
   "outputs": [
    {
     "name": "stdout",
     "output_type": "stream",
     "text": [
      "['x', 'xx', 'xxx', 'xxxx', 'y', 'yy', 'yyy', 'yyyy', 'z', 'zz', 'zzz', 'zzzz']\n"
     ]
    }
   ],
   "source": [
    "a = [i*j for i in ['x', 'y','z'] for j in range(1,5)]\n",
    "print(a)"
   ]
  },
  {
   "cell_type": "markdown",
   "metadata": {},
   "source": [
    "b. ['x', 'y', 'z', 'xx', 'yy', 'zz', 'xxx', 'yyy', 'zzz', 'xxxx', 'yyyy', 'zzzz']"
   ]
  },
  {
   "cell_type": "code",
   "execution_count": 48,
   "metadata": {},
   "outputs": [
    {
     "name": "stdout",
     "output_type": "stream",
     "text": [
      "['x', 'y', 'z', 'xx', 'yy', 'zz', 'xxx', 'yyy', 'zzz', 'xxxx', 'yyyy', 'zzzz']\n"
     ]
    }
   ],
   "source": [
    "a = [i*j for j in range(1,5) for i in ['x', 'y','z'] ]\n",
    "print(a)"
   ]
  },
  {
   "cell_type": "markdown",
   "metadata": {},
   "source": [
    "c. [[2], [3], [4], [3], [4], [5], [4], [5], [6]]"
   ]
  },
  {
   "cell_type": "code",
   "execution_count": 53,
   "metadata": {},
   "outputs": [
    {
     "name": "stdout",
     "output_type": "stream",
     "text": [
      "[[2], [3], [4], [3], [4], [5], [4], [5], [6]]\n"
     ]
    }
   ],
   "source": [
    "a = [[i[j]] for i in [(i,i+1,i+2) for i in range(2,5)] for j in range(3)]\n",
    "print(a)"
   ]
  },
  {
   "cell_type": "markdown",
   "metadata": {},
   "source": [
    "d.[[2, 3, 4, 5], [3, 4, 5, 6], [4, 5, 6, 7], [5, 6, 7, 8]]"
   ]
  },
  {
   "cell_type": "code",
   "execution_count": 49,
   "metadata": {},
   "outputs": [
    {
     "name": "stdout",
     "output_type": "stream",
     "text": [
      "[[2, 3, 4, 5], [3, 4, 5, 6], [4, 5, 6, 7], [5, 6, 7, 8]]\n"
     ]
    }
   ],
   "source": [
    "a = [[i,i+1,i+2,i+3] for i in range(2,6)]\n",
    "print(a)"
   ]
  },
  {
   "cell_type": "markdown",
   "metadata": {},
   "source": [
    "e.[(1, 1), (2, 1), (3, 1), (1, 2), (2, 2), (3, 2), (1, 3), (2, 3), (3, 3)]"
   ]
  },
  {
   "cell_type": "code",
   "execution_count": 52,
   "metadata": {},
   "outputs": [
    {
     "name": "stdout",
     "output_type": "stream",
     "text": [
      "[(1, 1), (2, 1), (3, 1), (1, 2), (2, 2), (3, 2), (1, 3), (2, 3), (3, 3)]\n"
     ]
    }
   ],
   "source": [
    "a = [(j, i) for i in range(1,4) for j in range(1,4)]\n",
    "print(a)"
   ]
  },
  {
   "cell_type": "code",
   "execution_count": null,
   "metadata": {},
   "outputs": [],
   "source": []
  }
 ],
 "metadata": {
  "kernelspec": {
   "display_name": "Python 3",
   "language": "python",
   "name": "python3"
  },
  "language_info": {
   "codemirror_mode": {
    "name": "ipython",
    "version": 2
   },
   "file_extension": ".py",
   "mimetype": "text/x-python",
   "name": "python",
   "nbconvert_exporter": "python",
   "pygments_lexer": "ipython2",
   "version": "2.7.15"
  }
 },
 "nbformat": 4,
 "nbformat_minor": 2
}

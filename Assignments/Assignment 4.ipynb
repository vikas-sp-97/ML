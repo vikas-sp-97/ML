{
 "cells": [
  {
   "cell_type": "markdown",
   "metadata": {},
   "source": [
    "# Assignment 4"
   ]
  },
  {
   "cell_type": "markdown",
   "metadata": {},
   "source": [
    "1.1 Write a Python Program(with class concepts) to find the area of the triangle using the below formula.\n",
    "area = (s*(s-a)*(s-b)*(s-c)) ** 0.5\n",
    "Function to take the length of the sides of triangle from user should be defined in the parent class and function to calculate the area should be defined in subclass."
   ]
  },
  {
   "cell_type": "code",
   "execution_count": null,
   "metadata": {},
   "outputs": [],
   "source": [
    "class Triangle:\n",
    "    def __init__(self, a, b, c, s):\n",
    "        self.a = a\n",
    "        self.b = b\n",
    "        self.c = c\n",
    "        self.s = s\n",
    "\n",
    "\n",
    "class Area(Triangle):\n",
    "    def __init__(self, a, b, c, s):\n",
    "        super().__init__(a,b,c,s)\n",
    "\n",
    "    def cal_area(self):\n",
    "        x = int(self.s)*(int(self.s)-int(self.a))*(int(self.s)-int(self.b))*(int(self.s)-int(self.c))\n",
    "        area = pow(x, 0.5)\n",
    "        return area\n",
    "\n",
    "\n",
    "a = input(\"Enter length the side1: \")\n",
    "b = input(\"Enter length the side2: \")\n",
    "c = input(\"Enter length the side3: \")\n",
    "s = input(\"Enter the parameter s: \")\n",
    "\n",
    "T = Triangle(a, b, c, s)\n",
    "A = Area(T.a, T.b, T.c, T.s)\n",
    "print(A.cal_area())\n"
   ]
  },
  {
   "cell_type": "markdown",
   "metadata": {},
   "source": [
    "========================================"
   ]
  },
  {
   "cell_type": "markdown",
   "metadata": {},
   "source": [
    "1.2 Write a function filter_long_words() that takes a list of words and an integer n and returns the list of words that are longer than n."
   ]
  },
  {
   "cell_type": "code",
   "execution_count": 5,
   "metadata": {},
   "outputs": [
    {
     "name": "stdout",
     "output_type": "stream",
     "text": [
      "xyzxse\n"
     ]
    }
   ],
   "source": [
    "def filter_long_word(a, n):\n",
    "    if type(a) == list and type(n) == int:\n",
    "        for i in a:\n",
    "            if len(i) > n:\n",
    "                print(i)\n",
    "    else:\n",
    "        print(\"Please provide the proper input!\")\n",
    "        \n",
    "\n",
    "n = 5\n",
    "a = ['how', 'are', 'you', 'xyzxse']\n",
    "filter_long_word(a,n)"
   ]
  },
  {
   "cell_type": "markdown",
   "metadata": {},
   "source": [
    "===================================="
   ]
  },
  {
   "cell_type": "markdown",
   "metadata": {},
   "source": [
    "2.1 Write a Python program using function concept that maps list of words into a list of integers representing the lengths of the corresponding words.\n",
    "Hint: If a list [ ab,cde,erty] is passed on to the python function output should come as [2,3,4] Here 2,3 and 4 are the lengths of the words in the list."
   ]
  },
  {
   "cell_type": "code",
   "execution_count": null,
   "metadata": {},
   "outputs": [],
   "source": [
    "def map_string(l):\n",
    "    if type(l) == list:\n",
    "        map_list = []\n",
    "        for i in l:\n",
    "            map_list.append(len(i))\n",
    "        return map_list\n",
    "    else:\n",
    "        print(\"provided in input is not a list!!\")\n",
    "\n",
    "\n",
    "a = ['anvdkl', 'xxx', 'jjj']\n",
    "c = map_string(a)\n",
    "print(c)"
   ]
  },
  {
   "cell_type": "markdown",
   "metadata": {},
   "source": [
    "====================================="
   ]
  },
  {
   "cell_type": "markdown",
   "metadata": {},
   "source": [
    "2.2 Write a Python function which takes a character (i.e. a string of length 1) and returns True if it is a vowel, False otherwise."
   ]
  },
  {
   "cell_type": "code",
   "execution_count": 4,
   "metadata": {},
   "outputs": [
    {
     "name": "stdout",
     "output_type": "stream",
     "text": [
      "Its a vowel!!\n"
     ]
    }
   ],
   "source": [
    "def is_vowel(a):\n",
    "    if len(a) == 1:\n",
    "        if str(a) in ['a','e','i','o','u']:\n",
    "            print(\"Its a vowel!!\")\n",
    "        else:\n",
    "            print(\"Its not a vowel!\")\n",
    "    else:\n",
    "        print(\"enter a charecter of length 1!\")\n",
    "\n",
    "\n",
    "# char = 'a' -- testing purpose\n",
    "char = str(input(\"enter a chaarecter u need to check for vowel: \"))\n",
    "is_vowel(char)"
   ]
  },
  {
   "cell_type": "code",
   "execution_count": null,
   "metadata": {},
   "outputs": [],
   "source": []
  }
 ],
 "metadata": {
  "kernelspec": {
   "display_name": "Python 3",
   "language": "python",
   "name": "python3"
  },
  "language_info": {
   "codemirror_mode": {
    "name": "ipython",
    "version": 2
   },
   "file_extension": ".py",
   "mimetype": "text/x-python",
   "name": "python",
   "nbconvert_exporter": "python",
   "pygments_lexer": "ipython2",
   "version": "2.7.15"
  }
 },
 "nbformat": 4,
 "nbformat_minor": 2
}
